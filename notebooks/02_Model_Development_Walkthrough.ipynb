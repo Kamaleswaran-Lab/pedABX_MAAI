{
 "cells": [
  {
   "cell_type": "markdown",
   "metadata": {},
   "source": [
    "# 2. MAAI Model Development Walkthrough\n",
    "\n",
    "This notebook provides a step-by-step guide to preprocessing the data, building, training, and evaluating the MAAI model interactively."
   ]
  },
  {
   "cell_type": "markdown",
   "metadata": {},
   "source": [
    "### Step 1: Imports and Setup"
   ]
  },
  {
   "cell_type": "code",
   "execution_count": null,
   "metadata": {},
   "outputs": [],
   "source": [
    "import pandas as pd\n",
    "import numpy as np\n",
    "import matplotlib.pyplot as plt\n",
    "import seaborn as sns\n",
    "from sklearn.model_selection import train_test_split\n",
    "from sklearn.preprocessing import StandardScaler\n",
    "from sklearn.metrics import classification_report, confusion_matrix\n",
    "import tensorflow as tf\n",
    "import sys\n",
    "import os\n",
    "\n",
    "# Add root directory to path to import our custom modules\n",
    "sys.path.append(os.path.abspath(os.path.join('..')))\n",
    "\n",
    "from data_preprocessing import config\n",
    "from model_development.maai_model import build_maai_model\n",
    "from model_development.utils import get_feature_sets, create_sequences, plot_training_history, plot_roc_curve, plot_pr_curve"
   ]
  },
  {
   "cell_type": "markdown",
   "metadata": {},
   "source": [
    "### Step 2: Load Preprocessed Data\n",
    "This assumes you have already run `python data_preprocessing/run_preprocessing.py`."
   ]
  },
  {
   "cell_type": "code",
   "execution_count": null,
   "metadata": {},
   "outputs": [],
   "source": [
    "data_path = os.path.join(config.PROCESSED_DATA_PATH, \"processed_feature_matrix.parquet\")\n",
    "df = pd.read_parquet(data_path)\n",
    "print(f\"Loaded data with shape: {df.shape}\")\n",
    "df.head()"
   ]
  },
  {
   "cell_type": "markdown",
   "metadata": {},
   "source": [
    "### Step 3: Scale Features and Create Sequences\n",
    "We will now scale the continuous features and reshape the flat dataframe into 3D sequences (`samples`, `timesteps`, `features`) suitable for LSTMs."
   ]
  },
  {
   "cell_type": "code",
   "execution_count": null,
   "metadata": {},
   "outputs": [],
   "source": [
    "# Get feature name lists\n",
    "vitals_cols, labs_cols, meds_cols = get_feature_sets(config)\n",
    "\n",
    "# Scale continuous features\n",
    "feature_cols_to_scale = vitals_cols + labs_cols\n",
    "scaler = StandardScaler()\n",
    "df[feature_cols_to_scale] = scaler.fit_transform(df[feature_cols_to_scale])\n",
    "print(\"Features scaled.\")"
   ]
  },
  {
   "cell_type": "code",
   "execution_count": null,
   "metadata": {},
   "outputs": [],
   "source": [
    "# Create sequences\n",
    "(X_vitals, X_labs, X_meds), y = create_sequences(\n",
    "    df, vitals_cols, labs_cols, meds_cols, config.TARGET_VARIABLE, config.LOOKBACK_WINDOW_HOURS\n",
    ")\n",
    "\n",
    "print(f\"Shape of Vitals sequences: {X_vitals.shape}\")\n",
    "print(f\"Shape of Labs sequences: {X_labs.shape}\")\n",
    "print(f\"Shape of Meds sequences: {X_meds.shape}\")\n",
    "print(f\"Shape of labels: {y.shape}\")"
   ]
  },
  {
   "cell_type": "markdown",
   "metadata": {},
   "source": [
    "### Step 4: Split Data into Training and Test Sets"
   ]
  },
  {
   "cell_type": "code",
   "execution_count": null,
   "metadata": {},
   "outputs": [],
   "source": [
    "indices = np.arange(X_vitals.shape[0])\n",
    "train_indices, test_indices = train_test_split(\n",
    "    indices, \n",
    "    test_size=config.TEST_SPLIT_SIZE, \n",
    "    random_state=config.RANDOM_STATE, \n",
    "    stratify=y # Important for imbalanced datasets\n",
    ")\n",
    "\n",
    "X_train_v, X_test_v = X_vitals[train_indices], X_vitals[test_indices]\n",
    "X_train_l, X_test_l = X_labs[train_indices], X_labs[test_indices]\n",
    "X_train_m, X_test_m = X_meds[train_indices], X_meds[test_indices]\n",
    "y_train, y_test = y[train_indices], y[test_indices]\n",
    "\n",
    "print(f\"Training set size: {len(y_train)}\")\n",
    "print(f\"Test set size: {len(y_test)}\")"
   ]
  },
  {
   "cell_type": "markdown",
   "metadata": {},
   "source": [
    "### Step 5: Build and Train the MAAI Model"
   ]
  },
  {
   "cell_type": "code",
   "execution_count": null,
   "metadata": {},
   "outputs": [],
   "source": [
    "model = build_maai_model(\n",
    "    n_features_vitals=X_train_v.shape[2],\n",
    "    n_features_labs=X_train_l.shape[2],\n",
    "    n_features_meds=X_train_m.shape[2],\n",
    "    lookback_window=config.LOOKBACK_WINDOW_HOURS\n",
    ")\n",
    "model.summary()"
   ]
  },
  {
   "cell_type": "code",
   "execution_count": null,
   "metadata": {},
   "outputs": [],
   "source": [
    "# Calculate class weights to handle imbalance\n",
    "neg, pos = np.bincount(y_train)\n",
    "total = neg + pos\n",
    "class_weight = {0: (1 / neg) * (total / 2.0), 1: (1 / pos) * (total / 2.0)}\n",
    "print(f\"Class weights: {class_weight}\")\n",
    "\n",
    "callbacks = [\n",
    "    tf.keras.callbacks.EarlyStopping(monitor='val_auprc', mode='max', patience=10, restore_best_weights=True)\n",
    "]\n",
    "\n",
    "history = model.fit(\n",
    "    [X_train_v, X_train_l, X_train_m], y_train,\n",
    "    validation_split=config.VALIDATION_SPLIT_SIZE / (1 - config.TEST_SPLIT_SIZE), # Adjust validation split for the training set size\n",
    "    epochs=100,\n",
    "    batch_size=256,\n",
    "    class_weight=class_weight,\n",
    "    callbacks=callbacks,\n",
    "    verbose=1\n",
    ")"
   ]
  },
  {
   "cell_type": "markdown",
   "metadata": {},
   "source": [
    "### Step 6: Evaluate the Model"
   ]
  },
  {
   "cell_type": "code",
   "execution_count": null,
   "metadata": {},
   "outputs": [],
   "source": [
    "plot_training_history(history, os.path.join(config.RESULTS_PATH, 'notebook_training_history.png'))"
   ]
  },
  {
   "cell_type": "code",
   "execution_count": null,
   "metadata": {},
   "outputs": [],
   "source": [
    "y_pred_proba = model.predict([X_test_v, X_test_l, X_test_m]).ravel()\n",
    "\n",
    "plot_roc_curve(y_test, y_pred_proba, os.path.join(config.RESULTS_PATH, 'notebook_roc_curve.png'))\n",
    "plot_pr_curve(y_test, y_pred_proba, os.path.join(config.RESULTS_PATH, 'notebook_pr_curve.png'))"
   ]
  },
  {
   "cell_type": "code",
   "execution_count": null,
   "metadata": {},
   "outputs": [],
   "source": [
    "y_pred_class = (y_pred_proba > 0.5).astype(int)\n",
    "print(\"\\nClassification Report (Threshold = 0.5):\")\n",
    "print(classification_report(y_test, y_pred_class))"
   ]
  },
  {
   "cell_type": "code",
   "execution_count": null,
   "metadata": {},
   "outputs": [],
   "source": [
    "cm = confusion_matrix(y_test, y_pred_class)\n",
    "plt.figure(figsize=(8, 6))\n",
    "sns.heatmap(cm, annot=True, fmt='d', cmap='Blues', xticklabels=['No ABX', 'Start ABX'], yticklabels=['No ABX', 'Start ABX'])\n",
    "plt.title('Confusion Matrix')\n",
    "plt.ylabel('Actual Label')\n",
    "plt.xlabel('Predicted Label')\n",
    "plt.show()"
   ]
  }
 ],
 "metadata": {
  "kernelspec": {
   "display_name": "Python 3",
   "language": "python",
   "name": "python3"
  },
  "language_info": {
   "name": "python",
   "version": "3.9.7"
  }
 },
 "nbformat": 4,
 "nbformat_minor": 2
}

